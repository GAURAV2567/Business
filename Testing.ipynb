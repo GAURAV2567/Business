{
 "cells": [
  {
   "cell_type": "code",
   "execution_count": 1,
   "id": "ff2f455a",
   "metadata": {},
   "outputs": [],
   "source": [
    "import json"
   ]
  },
  {
   "cell_type": "code",
   "execution_count": 2,
   "id": "ce684eff",
   "metadata": {},
   "outputs": [],
   "source": [
    "with open(\"all_collections.json\", \"r\") as f:\n",
    "    col = json.load(f)"
   ]
  },
  {
   "cell_type": "code",
   "execution_count": 14,
   "id": "0584b9ac",
   "metadata": {},
   "outputs": [
    {
     "name": "stdout",
     "output_type": "stream",
     "text": [
      "fishing {'title': 'Fishing', 'subs': {'reels': 'Go to Reels', 'spinning-reels': 'Spinning Reels', 'bait-casting-reels': 'Bait Casting Reels', 'fishing-rods': 'Go to Fishing Rods', 'spinning-rod': 'Spinning Rod', 'combo-spinning-rod': 'Combo Spinning Rod', 'bait-casting-rods': 'Bait casting Rods', 'jigging-surf-rods': 'Jigging / Surf Rods', 'fly-rod': 'Fly Rod', 'pole-rods': 'Pole Rod', 'telescopic-travel-rod': 'Telescopic / Travel  Rod', 'combo': 'Combo', 'lures': 'Go to Lures', 'hard-lure': 'Hard Lures', 'soft-lure': 'Soft Baits', 'frogs': 'Frogs', 'buy-best-fishing-jigs-spoon-spinner': 'Jigs / Spoon / Spinner', 'fishing-line-india': 'Go to Line', 'braided-pe-line-india': 'Braided Line', 'mono-line': 'Monofilament Line', 'leader': 'Leader', 'hooks': 'Go to Hooks', 'hooks-1': 'Treble hooks', 'jigs': 'Jig Heads', 'worm-hook': 'Worm Hook', 'sabiki': 'Sabiki', 'assist-hooks-line': 'Assist Hooks / Line', 'live-bait-hooks': 'Live Bait Hooks', 'accessories': 'Go to Accessories', 'tackle-box': 'Tackle Box', 'gaff': 'Gaff', 'pliers-cutters': 'Pliers / Cutters', 'lip-gripper': 'Lip Gripper | Hook Remover', 'landing-nets': 'Landing Nets', 'attractant': 'Attractant', 'oils-grease': 'Oils / Grease', 'knives': 'Knives', 'fishing-spares': 'Spares', 'other-accessories': 'Other Accesories', 'floaters': 'Floats', 'tackle-box-bags': \"Bag's\", 'diving-board': 'Diving Board', 'terminal-tackle': 'Go to Terminal Tackles', 'snaps': 'Swivels / Snaps', 'rigging-accessories': 'Rigging Accessories', 'split-ring': 'Split Ring', 'others': \"Other Terminal Tackle's\", 'weight-sinker': 'Weight/Sinker', 'carp-fishing': 'Go to Carp Fishing', 'carp-hooks': 'Carp Hooks', 'feedeers': 'Feeds', 'carp-foam': 'Floats', 'nets-traps-1': 'Nets | Traps'}}\n",
      "{'reels': 'Go to Reels', 'spinning-reels': 'Spinning Reels', 'bait-casting-reels': 'Bait Casting Reels', 'fishing-rods': 'Go to Fishing Rods', 'spinning-rod': 'Spinning Rod', 'combo-spinning-rod': 'Combo Spinning Rod', 'bait-casting-rods': 'Bait casting Rods', 'jigging-surf-rods': 'Jigging / Surf Rods', 'fly-rod': 'Fly Rod', 'pole-rods': 'Pole Rod', 'telescopic-travel-rod': 'Telescopic / Travel  Rod', 'combo': 'Combo', 'lures': 'Go to Lures', 'hard-lure': 'Hard Lures', 'soft-lure': 'Soft Baits', 'frogs': 'Frogs', 'buy-best-fishing-jigs-spoon-spinner': 'Jigs / Spoon / Spinner', 'fishing-line-india': 'Go to Line', 'braided-pe-line-india': 'Braided Line', 'mono-line': 'Monofilament Line', 'leader': 'Leader', 'hooks': 'Go to Hooks', 'hooks-1': 'Treble hooks', 'jigs': 'Jig Heads', 'worm-hook': 'Worm Hook', 'sabiki': 'Sabiki', 'assist-hooks-line': 'Assist Hooks / Line', 'live-bait-hooks': 'Live Bait Hooks', 'accessories': 'Go to Accessories', 'tackle-box': 'Tackle Box', 'gaff': 'Gaff', 'pliers-cutters': 'Pliers / Cutters', 'lip-gripper': 'Lip Gripper | Hook Remover', 'landing-nets': 'Landing Nets', 'attractant': 'Attractant', 'oils-grease': 'Oils / Grease', 'knives': 'Knives', 'fishing-spares': 'Spares', 'other-accessories': 'Other Accesories', 'floaters': 'Floats', 'tackle-box-bags': \"Bag's\", 'diving-board': 'Diving Board', 'terminal-tackle': 'Go to Terminal Tackles', 'snaps': 'Swivels / Snaps', 'rigging-accessories': 'Rigging Accessories', 'split-ring': 'Split Ring', 'others': \"Other Terminal Tackle's\", 'weight-sinker': 'Weight/Sinker', 'carp-fishing': 'Go to Carp Fishing', 'carp-hooks': 'Carp Hooks', 'feedeers': 'Feeds', 'carp-foam': 'Floats', 'nets-traps-1': 'Nets | Traps'}\n",
      "\n",
      "Scraping 'fishing' → 'Spinning Reels' …\n",
      "\n",
      "Scraping 'fishing' → 'Bait Casting Reels' …\n",
      "\n",
      "Scraping 'fishing' → 'Spinning Rod' …\n",
      "\n",
      "Scraping 'fishing' → 'Combo Spinning Rod' …\n",
      "\n",
      "Scraping 'fishing' → 'Bait casting Rods' …\n",
      "\n",
      "Scraping 'fishing' → 'Jigging / Surf Rods' …\n",
      "\n",
      "Scraping 'fishing' → 'Fly Rod' …\n",
      "\n",
      "Scraping 'fishing' → 'Pole Rod' …\n",
      "\n",
      "Scraping 'fishing' → 'Telescopic / Travel  Rod' …\n",
      "\n",
      "Scraping 'fishing' → 'Combo' …\n",
      "\n",
      "Scraping 'fishing' → 'Hard Lures' …\n",
      "\n",
      "Scraping 'fishing' → 'Soft Baits' …\n",
      "\n",
      "Scraping 'fishing' → 'Frogs' …\n",
      "\n",
      "Scraping 'fishing' → 'Jigs / Spoon / Spinner' …\n",
      "\n",
      "Scraping 'fishing' → 'Braided Line' …\n",
      "\n",
      "Scraping 'fishing' → 'Monofilament Line' …\n",
      "\n",
      "Scraping 'fishing' → 'Leader' …\n",
      "\n",
      "Scraping 'fishing' → 'Treble hooks' …\n",
      "\n",
      "Scraping 'fishing' → 'Jig Heads' …\n",
      "\n",
      "Scraping 'fishing' → 'Worm Hook' …\n",
      "\n",
      "Scraping 'fishing' → 'Sabiki' …\n",
      "\n",
      "Scraping 'fishing' → 'Assist Hooks / Line' …\n",
      "\n",
      "Scraping 'fishing' → 'Live Bait Hooks' …\n",
      "\n",
      "Scraping 'fishing' → 'Tackle Box' …\n",
      "\n",
      "Scraping 'fishing' → 'Gaff' …\n",
      "\n",
      "Scraping 'fishing' → 'Pliers / Cutters' …\n",
      "\n",
      "Scraping 'fishing' → 'Lip Gripper | Hook Remover' …\n",
      "\n",
      "Scraping 'fishing' → 'Landing Nets' …\n",
      "\n",
      "Scraping 'fishing' → 'Attractant' …\n",
      "\n",
      "Scraping 'fishing' → 'Oils / Grease' …\n",
      "\n",
      "Scraping 'fishing' → 'Knives' …\n",
      "\n",
      "Scraping 'fishing' → 'Spares' …\n",
      "\n",
      "Scraping 'fishing' → 'Other Accesories' …\n",
      "\n",
      "Scraping 'fishing' → 'Floats' …\n",
      "\n",
      "Scraping 'fishing' → 'Bag's' …\n",
      "\n",
      "Scraping 'fishing' → 'Diving Board' …\n",
      "\n",
      "Scraping 'fishing' → 'Swivels / Snaps' …\n",
      "\n",
      "Scraping 'fishing' → 'Rigging Accessories' …\n",
      "\n",
      "Scraping 'fishing' → 'Split Ring' …\n",
      "\n",
      "Scraping 'fishing' → 'Other Terminal Tackle's' …\n",
      "\n",
      "Scraping 'fishing' → 'Weight/Sinker' …\n",
      "\n",
      "Scraping 'fishing' → 'Carp Hooks' …\n",
      "\n",
      "Scraping 'fishing' → 'Feeds' …\n",
      "\n",
      "Scraping 'fishing' → 'Floats' …\n",
      "\n",
      "Scraping 'fishing' → 'Nets | Traps' …\n",
      "\n",
      "================\n",
      "\n",
      "archery {'title': 'Archery', 'subs': {'archery': 'Archery', 'recurve-bows': 'Recurve Bows', 'crossbow': 'Crossbows', 'arrows': 'Arrows', 'other-archery': 'Other Archery', 'archery-spares': 'Archery Spares'}}\n",
      "{'archery': 'Archery', 'recurve-bows': 'Recurve Bows', 'crossbow': 'Crossbows', 'arrows': 'Arrows', 'other-archery': 'Other Archery', 'archery-spares': 'Archery Spares'}\n",
      "\n",
      "Scraping 'archery' → 'Archery' …\n",
      "\n",
      "Scraping 'archery' → 'Recurve Bows' …\n",
      "\n",
      "Scraping 'archery' → 'Crossbows' …\n",
      "\n",
      "Scraping 'archery' → 'Arrows' …\n",
      "\n",
      "Scraping 'archery' → 'Other Archery' …\n",
      "\n",
      "Scraping 'archery' → 'Archery Spares' …\n",
      "\n",
      "================\n",
      "\n",
      "camping {'title': 'Camping & Outdoor', 'subs': {'camping': 'Camping Accessories', 'barbecue': 'Grills &  Accessories', 'knives': 'Knives', 'lights': 'Lights', 'life-jacket': 'Life Jacket'}}\n",
      "{'camping': 'Camping Accessories', 'barbecue': 'Grills &  Accessories', 'knives': 'Knives', 'lights': 'Lights', 'life-jacket': 'Life Jacket'}\n",
      "\n",
      "Scraping 'camping' → 'Camping Accessories' …\n",
      "\n",
      "Scraping 'camping' → 'Grills &  Accessories' …\n",
      "\n",
      "Scraping 'camping' → 'Knives' …\n",
      "\n",
      "Scraping 'camping' → 'Lights' …\n",
      "\n",
      "Scraping 'camping' → 'Life Jacket' …\n",
      "\n",
      "================\n",
      "\n",
      "apparel-merchandise {'title': 'Apparel / Merchandise', 'subs': {'apparel-merchandise': 'Apparel / Merchandise', 'apparel': 'Tshirt & Jersey', 'caps': 'Caps/Headwear', 'stickers': 'Stickers', 'merchandise': 'Merchandise', 'other-merchandise': 'Others', 'gloves': 'Gloves', 'arm-sleeves': 'Arm Sleeves', 'sunglasses': 'Sunglasses'}}\n",
      "{'apparel-merchandise': 'Apparel / Merchandise', 'apparel': 'Tshirt & Jersey', 'caps': 'Caps/Headwear', 'stickers': 'Stickers', 'merchandise': 'Merchandise', 'other-merchandise': 'Others', 'gloves': 'Gloves', 'arm-sleeves': 'Arm Sleeves', 'sunglasses': 'Sunglasses'}\n",
      "\n",
      "Scraping 'apparel-merchandise' → 'Apparel / Merchandise' …\n",
      "\n",
      "Scraping 'apparel-merchandise' → 'Tshirt & Jersey' …\n",
      "\n",
      "Scraping 'apparel-merchandise' → 'Caps/Headwear' …\n",
      "\n",
      "Scraping 'apparel-merchandise' → 'Stickers' …\n",
      "\n",
      "Scraping 'apparel-merchandise' → 'Merchandise' …\n",
      "\n",
      "Scraping 'apparel-merchandise' → 'Others' …\n",
      "\n",
      "Scraping 'apparel-merchandise' → 'Gloves' …\n",
      "\n",
      "Scraping 'apparel-merchandise' → 'Arm Sleeves' …\n",
      "\n",
      "Scraping 'apparel-merchandise' → 'Sunglasses' …\n",
      "\n",
      "================\n",
      "\n"
     ]
    }
   ],
   "source": [
    "result = {}\n",
    "for parent, info in col.items():\n",
    "    print(parent,info)\n",
    "    #result[parent] = {\"title\": info[\"title\"], \"subs\": {}}\n",
    "    #print(result[parent])\n",
    "    sub_handles = info[\"subs\"] or {parent: info[\"title\"]}\n",
    "    \n",
    "    print(sub_handles)\n",
    "\n",
    "    for sub_handle, sub_title in sub_handles.items():\n",
    "            \n",
    "            if sub_title.find(\"Go to\") < 0:\n",
    "                print(f\"\\nScraping '{parent}' → '{sub_title}' …\")\n",
    "\n",
    "            \n",
    "            \"\"\"prod_urls = scrape_products_in_collection(sub_handle)\n",
    "            print(f\"  ↳ {len(prod_urls)} products found\")\n",
    "            # scrape each product\n",
    "            products_data = []\n",
    "            for pu in prod_urls:\n",
    "                products_data.append(scrape_product_details(pu))\n",
    "                time.sleep(0.3)\n",
    "            result[parent][\"subs\"][sub_handle] = {\n",
    "                \"title\": sub_title,\n",
    "                \"products\": products_data\n",
    "            }\"\"\"\n",
    "\n",
    "            \n",
    "    \n",
    "    print(\"\\n================\\n\")\n",
    "\n",
    "    #break"
   ]
  },
  {
   "cell_type": "code",
   "execution_count": null,
   "id": "34b55b6f",
   "metadata": {},
   "outputs": [],
   "source": []
  },
  {
   "cell_type": "code",
   "execution_count": 2,
   "id": "642e2926",
   "metadata": {},
   "outputs": [],
   "source": [
    "import requests\n",
    "from bs4 import BeautifulSoup\n",
    "import re\n",
    "import time\n",
    "import json\n",
    "from urllib.parse import urljoin\n",
    "from requests.exceptions import RequestException\n",
    "\n",
    "BASE_URL = \"https://cabraloutdoors.com\"\n",
    "\n",
    "#––– Helpers –––––––––––––––––––––––––––––––––––––––––––––––––––––––––––––––––\n",
    "\n",
    "def get_soup(url):\n",
    "    \"\"\"Fetch a URL and return BeautifulSoup object, with error handling.\"\"\"\n",
    "    try:\n",
    "        resp = requests.get(url, headers={\"User-Agent\": \"Mozilla/5.0\"}, timeout=10)\n",
    "        resp.raise_for_status()\n",
    "        return BeautifulSoup(resp.text, \"html.parser\")\n",
    "    except RequestException as e:\n",
    "        print(f\"[ERROR] Failed to fetch URL: {url}\\n{e}\")\n",
    "        return None\n"
   ]
  },
  {
   "cell_type": "code",
   "execution_count": 49,
   "id": "7b2b1d0e",
   "metadata": {},
   "outputs": [],
   "source": [
    "col_url = f\"https://cabraloutdoors.com/collections/other-archery?page=1\"\n",
    "soup = get_soup(col_url)"
   ]
  },
  {
   "cell_type": "code",
   "execution_count": 50,
   "id": "0eabfa30",
   "metadata": {},
   "outputs": [
    {
     "name": "stdout",
     "output_type": "stream",
     "text": [
      "No products found \n"
     ]
    }
   ],
   "source": [
    "if not \"/collections/\" in soup.find_all(\"link\",rel=\"canonical\")[0].get(\"href\"):\n",
    "    print(f\"No products found \")"
   ]
  },
  {
   "cell_type": "code",
   "execution_count": null,
   "id": "3a131295",
   "metadata": {},
   "outputs": [
    {
     "data": {
      "text/plain": [
       "'https://cabraloutdoors.com/collections/feedeers'"
      ]
     },
     "execution_count": 44,
     "metadata": {},
     "output_type": "execute_result"
    }
   ],
   "source": []
  },
  {
   "cell_type": "code",
   "execution_count": 40,
   "id": "c5ada64d",
   "metadata": {},
   "outputs": [
    {
     "name": "stdout",
     "output_type": "stream",
     "text": [
      "pass\n"
     ]
    }
   ],
   "source": [
    "# Example: https://cabraloutdoors.com/collections/fishing\n",
    "if \"/collections/\" in canonical_url:\n",
    "    print(\"pass\")"
   ]
  },
  {
   "cell_type": "code",
   "execution_count": null,
   "id": "4b92f6c7",
   "metadata": {},
   "outputs": [],
   "source": []
  }
 ],
 "metadata": {
  "kernelspec": {
   "display_name": "Graph",
   "language": "python",
   "name": "python3"
  },
  "language_info": {
   "codemirror_mode": {
    "name": "ipython",
    "version": 3
   },
   "file_extension": ".py",
   "mimetype": "text/x-python",
   "name": "python",
   "nbconvert_exporter": "python",
   "pygments_lexer": "ipython3",
   "version": "3.9.16"
  }
 },
 "nbformat": 4,
 "nbformat_minor": 5
}
