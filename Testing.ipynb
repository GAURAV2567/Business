{
 "cells": [
  {
   "cell_type": "code",
   "execution_count": 1,
   "id": "ff2f455a",
   "metadata": {},
   "outputs": [],
   "source": [
    "import json"
   ]
  },
  {
   "cell_type": "code",
   "execution_count": 8,
   "id": "ce684eff",
   "metadata": {},
   "outputs": [],
   "source": [
    "with open(\"cabral_full_catalog.html_scrape.json\", \"r\") as f:\n",
    "    col = json.load(f)"
   ]
  },
  {
   "cell_type": "code",
   "execution_count": null,
   "id": "9a2a94f7",
   "metadata": {},
   "outputs": [],
   "source": []
  },
  {
   "cell_type": "code",
   "execution_count": 2,
   "id": "642e2926",
   "metadata": {},
   "outputs": [
    {
     "name": "stderr",
     "output_type": "stream",
     "text": [
      "c:\\Users\\kggau\\anaconda3\\envs\\streamlitnew\\lib\\site-packages\\requests\\__init__.py:109: RequestsDependencyWarning: urllib3 (2.4.0) or chardet (5.1.0)/charset_normalizer (2.1.1) doesn't match a supported version!\n",
      "  warnings.warn(\n"
     ]
    }
   ],
   "source": [
    "import requests\n",
    "from bs4 import BeautifulSoup\n",
    "import re\n",
    "import time\n",
    "import json\n",
    "from urllib.parse import urljoin\n",
    "from requests.exceptions import RequestException\n",
    "\n",
    "BASE_URL = \"https://cabraloutdoors.com\"\n",
    "\n",
    "#––– Helpers –––––––––––––––––––––––––––––––––––––––––––––––––––––––––––––––––\n",
    "\n",
    "def get_soup(url):\n",
    "    \"\"\"Fetch a URL and return BeautifulSoup object, with error handling.\"\"\"\n",
    "    try:\n",
    "        resp = requests.get(url, headers={\"User-Agent\": \"Mozilla/5.0\"}, timeout=10)\n",
    "        resp.raise_for_status()\n",
    "        return BeautifulSoup(resp.text, \"html.parser\")\n",
    "    except RequestException as e:\n",
    "        print(f\"[ERROR] Failed to fetch URL: {url}\\n{e}\")\n",
    "        return None\n"
   ]
  },
  {
   "cell_type": "code",
   "execution_count": 3,
   "id": "7b2b1d0e",
   "metadata": {},
   "outputs": [],
   "source": [
    "col_url = f\"https://cabraloutdoors.com/collections/frogs/products/z-man-hard-leg-frogz-4inch-3-pack-10x-tough-super-amphibian\"\n",
    "soup = get_soup(col_url)"
   ]
  },
  {
   "cell_type": "code",
   "execution_count": null,
   "id": "80868191",
   "metadata": {},
   "outputs": [
    {
     "data": {
      "text/plain": [
       "<div class=\"jdgm-prev-badge\" data-average-rating=\"4.79\" data-number-of-questions=\"13\" data-number-of-reviews=\"81\" style=\"display:none\"> <span aria-label=\"4.79 stars\" class=\"jdgm-prev-badge__stars\" data-score=\"4.79\" role=\"button\" tabindex=\"0\"> <span class=\"jdgm-star jdgm--on\"></span><span class=\"jdgm-star jdgm--on\"></span><span class=\"jdgm-star jdgm--on\"></span><span class=\"jdgm-star jdgm--on\"></span><span class=\"jdgm-star jdgm--on\"></span> </span> <span class=\"jdgm-prev-badge__text\"> 81 reviews </span> </div>"
      ]
     },
     "execution_count": 5,
     "metadata": {},
     "output_type": "execute_result"
    }
   ],
   "source": [
    "soup.find(\"div\", class_=\"jdgm-prev-badge\")"
   ]
  },
  {
   "cell_type": "code",
   "execution_count": 6,
   "id": "664b4899",
   "metadata": {},
   "outputs": [
    {
     "data": {
      "text/plain": [
       "'4.79'"
      ]
     },
     "execution_count": 6,
     "metadata": {},
     "output_type": "execute_result"
    }
   ],
   "source": [
    "soup.find(\"div\", class_=\"jdgm-prev-badge\").get(\"data-average-rating\")"
   ]
  },
  {
   "cell_type": "code",
   "execution_count": 7,
   "id": "8346242e",
   "metadata": {},
   "outputs": [
    {
     "data": {
      "text/plain": [
       "'81'"
      ]
     },
     "execution_count": 7,
     "metadata": {},
     "output_type": "execute_result"
    }
   ],
   "source": [
    "soup.find(\"div\", class_=\"jdgm-prev-badge\").get(\"data-number-of-reviews\")"
   ]
  },
  {
   "cell_type": "code",
   "execution_count": 1,
   "id": "bbdf79c5",
   "metadata": {},
   "outputs": [
    {
     "name": "stderr",
     "output_type": "stream",
     "text": [
      "c:\\Users\\kggau\\anaconda3\\envs\\streamlitnew\\lib\\site-packages\\requests\\__init__.py:109: RequestsDependencyWarning: urllib3 (2.4.0) or chardet (5.1.0)/charset_normalizer (2.1.1) doesn't match a supported version!\n",
      "  warnings.warn(\n"
     ]
    }
   ],
   "source": [
    "import json\n",
    "import time\n",
    "import requests\n",
    "from bs4 import BeautifulSoup\n",
    "from requests.exceptions import RequestException\n",
    "\n",
    "# Constants\n",
    "INPUT_JSON = \"cabral_full_catalog.html_scrape.json\"\n",
    "OUTPUT_JSON = \"cabral_full_catalog_with_ratings11.json\"\n",
    "BASE_HEADERS = {\n",
    "    \"User-Agent\": \"Mozilla/5.0 (Windows NT 10.0; Win64; x64)\",\n",
    "    \"Accept-Language\": \"en-US,en;q=0.9\"\n",
    "}"
   ]
  },
  {
   "cell_type": "code",
   "execution_count": 2,
   "id": "2b38ef3e",
   "metadata": {},
   "outputs": [],
   "source": [
    "def get_soup(url):\n",
    "    \"\"\"Fetch a URL and return a BeautifulSoup object, or None on failure.\"\"\"\n",
    "    try:\n",
    "        resp = requests.get(url, headers=BASE_HEADERS, timeout=10)\n",
    "        resp.raise_for_status()\n",
    "        return BeautifulSoup(resp.text, \"html.parser\")\n",
    "    except RequestException as e:\n",
    "        print(f\"[ERROR] Could not fetch {url}: {e}\")\n",
    "        return None\n",
    "\n",
    "def scrape_ratings_summary(soup):\n",
    "    \"\"\"\n",
    "    From a BeautifulSoup-parsed product page, extract:\n",
    "      - average_rating\n",
    "      - count_reviews\n",
    "    Returns a dict with those two keys (values may be None).\n",
    "    \"\"\"\n",
    "    badge = soup.find(\"div\", class_=\"jdgm-prev-badge\")\n",
    "    if not badge:\n",
    "        return {\"average_rating\": None, \"count_reviews\": None}\n",
    "\n",
    "    return {\n",
    "        \"average_rating\": badge.get(\"data-average-rating\"),\n",
    "        \"count_reviews\": badge.get(\"data-number-of-reviews\")\n",
    "    }"
   ]
  }
 ],
 "metadata": {
  "kernelspec": {
   "display_name": "streamlitnew",
   "language": "python",
   "name": "python3"
  },
  "language_info": {
   "codemirror_mode": {
    "name": "ipython",
    "version": 3
   },
   "file_extension": ".py",
   "mimetype": "text/x-python",
   "name": "python",
   "nbconvert_exporter": "python",
   "pygments_lexer": "ipython3",
   "version": "3.10.8"
  }
 },
 "nbformat": 4,
 "nbformat_minor": 5
}
